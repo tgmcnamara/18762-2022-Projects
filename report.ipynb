{
 "cells": [
  {
   "cell_type": "markdown",
   "metadata": {},
   "source": [
    "18762 Circuit Simulation & Optimization Methods  \n",
    "Lucas Godshalk  \n",
    "Spring 2022  \n",
    "\n",
    "# Project 3 - Power Flow Infeasibility Analysis"
   ]
  },
  {
   "cell_type": "markdown",
   "metadata": {},
   "source": [
    "## Infeasibility Analysis Overview"
   ]
  },
  {
   "cell_type": "markdown",
   "metadata": {},
   "source": [
    "AC power flow simulations fundamentally have the goal of converging on a physical solution for a given power network. Improvements in formulating these simulators such as utilizing IV formulation or the inclusion of homotopy methods like Tx-stepping have helped increase the robustness of these simulators. This makes them capable of solving increasingly difficult and large networks. But despite these improvements, they do not provide a guarantee that power flow will converge to a solution.\n",
    "\n",
    "This presents a challenge when a simulator is presented with an infeasible network. An infeasible network, by definition, has no valid solution for AC power flow. If power flow had a globally robust method, we could at least categorically define these infeasible networks. Unfortunately, because this is not the case, it introduces uncertainty into power flow analysis. Answering the question \"Is the network infeasible, or was the simulator not robust enough?\" is difficult as the system has no method to differentiate the two. Infeasibility analysis, as the name implies, sets out to solve this problem. And in formulating the problem, ideally we should know not only if a network is infeasible, but also where the infeasibility exists on the network and its magnitude.\n",
    "\n",
    "When using IV formulation, we can define infeasibility quite simply: a lack of real or imaginary current at one or more buses. Theoretically, a sufficient injection of current at the correct set of nodes would allow any network to have at a physical solution. If the sum of all of these _infeasibility currents_ is greater than zero, then we know that we are simulating an infeasible network. However, if we imagine a network where an unlimited amount of current is allowed to be injected at any bus (in a similar manner to the slack bus), we need to ensure that no more of this infeasibility current is allowed to flow than is absolutely necessary. This requirement of minimizing the infeasibility current cannot be solved using standard power flow formulation alone, instead it requires solving an optimization problem. \n",
    "\n",
    "When formulating an optimization problem, we start by defining our objective function. In this case, given a vector of infeasibility currents, we will set our objective to minimize the $\\ell^2$ norm of this vector. In this case, the $\\ell^2$ norm can be stated as $\\sqrt{\\sum_{x=0}^{n} (I_{r,x}^2 + I_{i,x}^2)}$, which creates an incentive to keep any individual value of $I$ as low as possible. Note that one could imagine using a different objective instead, like minimizing the $\\ell^1$ norm as well. \n",
    "\n",
    "Next, we need to define the equality and inequality constraints that should govern our optimization problem. Fortunately, our equality constraints are already defined in the form of our power flow equations. In this particular formulation, no inequality constraints exist, although they could if we were to include constraints like $Q_{min}$ or $Q_{max}$ for a generator. Unfortunately, this introduces the first wrinkle, which is that the power flow equations are non-linear, which means our equality constraints are not affine. In optimization, this means our problem is non-convex and has several possible local minima in addition to the global minimum and we are not guaranteed which solution we will find.\n",
    "\n",
    "Next, we can take our objective function and constraints and formulate a Lagrangian. The lagrangian has the form $\\mathcal{L}(X, \\lambda) = f(x) + \\lambda^TH(X)$ where X is our primal variables, $\\lambda$ is our dual variables, $f(x)$ is our objective function, and $H(X)$ is a vector of all of our equality constraints. Our primal variables are just the unknowns in our powerflow equation: $V_r, V_i, Q, I_{r,slack}, I_{i,slack}$ plus our real and imaginary infeasibility currents $I_{r,infeas}$ and $I_{i,infeas}$. Additionally, a $\\lambda$ exists for every equality constraint equation, in this case all of our original power flow equations. \n",
    "\n",
    "Now that the Lagrangian is constructed, we can locate a local minimum (or saddle point) by satisfying the first order optimality condition. To do so, we find where the gradient of the Lagrangian with respect to all primal and dual variables is equal to zero. However, because our KCL equations contain non-linear terms, we once need to perform a taylor expansion to linearize them. Like with ordinary power flow, we can utilize Newton-Raphson to then locate a solution.\n",
    "\n",
    "The resulting solution yields a set of minimized infeasibility currents which will sum to zero if the solution is considered feasible (unless the solution is a saddle point). "
   ]
  },
  {
   "cell_type": "markdown",
   "metadata": {},
   "source": [
    "### Derivations\n",
    "\n",
    "Below are all of the $\\frac{\\partial{\\mathcal{L}}}{\\partial{X_x}}$ derivations for each component of the original power flow simulator. The $\\lambda_x$ derivatives are omitted as they match the original derivations from project 2. All symbolic derivations are performed using sympy. For loads and generators, symbol naming matches variable names in the codebase, so the appearance may appear somewhat strange in their latex format. The Newton-Raphson process can be defined as $\\nabla f(x_k)x_{k+1} = -f(x) + \\nabla f(x_k)x_k$, which necessitates taking a second derivative for our non-linear terms. This can be observed for PQ and PV bus derivations which have non-linear terms."
   ]
  },
  {
   "cell_type": "code",
   "execution_count": 1,
   "metadata": {},
   "outputs": [],
   "source": [
    "from sympy import *\n",
    "import numpy as np\n",
    "import IPython.display as disp\n",
    "\n",
    "def lagragify_and_display_derivatives(variables, lambdas, eqns):\n",
    "    lagrange = np.dot(lambdas, eqns)\n",
    "    display_derivatives(lagrange, variables)\n",
    "\n",
    "def display_derivatives(lagrange, derivatives):\n",
    "    print(\"Lagrange:\")\n",
    "    disp.display(lagrange)\n",
    "\n",
    "    print(\"Derivatives:\")\n",
    "\n",
    "    for derivative in derivatives:\n",
    "        print(f'd{derivative}:')\n",
    "        disp.display(diff(lagrange, derivative))"
   ]
  },
  {
   "cell_type": "markdown",
   "metadata": {},
   "source": [
    "#### Slack"
   ]
  },
  {
   "cell_type": "code",
   "execution_count": 2,
   "metadata": {},
   "outputs": [
    {
     "name": "stdout",
     "output_type": "stream",
     "text": [
      "Lagrange:\n"
     ]
    },
    {
     "data": {
      "text/latex": [
       "$\\displaystyle I_{Si} \\lambda_{Vi} + I_{Sr} \\lambda_{Vr} + \\lambda_{Si} \\left(Vi - Viset\\right) + \\lambda_{Sr} \\left(Vr - Vrset\\right)$"
      ],
      "text/plain": [
       "I_Si*lambda_Vi + I_Sr*lambda_Vr + lambda_Si*(Vi - Viset) + lambda_Sr*(Vr - Vrset)"
      ]
     },
     "metadata": {},
     "output_type": "display_data"
    },
    {
     "name": "stdout",
     "output_type": "stream",
     "text": [
      "Derivatives:\n",
      "dVr:\n"
     ]
    },
    {
     "data": {
      "text/latex": [
       "$\\displaystyle \\lambda_{Sr}$"
      ],
      "text/plain": [
       "lambda_Sr"
      ]
     },
     "metadata": {},
     "output_type": "display_data"
    },
    {
     "name": "stdout",
     "output_type": "stream",
     "text": [
      "dVi:\n"
     ]
    },
    {
     "data": {
      "text/latex": [
       "$\\displaystyle \\lambda_{Si}$"
      ],
      "text/plain": [
       "lambda_Si"
      ]
     },
     "metadata": {},
     "output_type": "display_data"
    },
    {
     "name": "stdout",
     "output_type": "stream",
     "text": [
      "dI_Sr:\n"
     ]
    },
    {
     "data": {
      "text/latex": [
       "$\\displaystyle \\lambda_{Vr}$"
      ],
      "text/plain": [
       "lambda_Vr"
      ]
     },
     "metadata": {},
     "output_type": "display_data"
    },
    {
     "name": "stdout",
     "output_type": "stream",
     "text": [
      "dI_Si:\n"
     ]
    },
    {
     "data": {
      "text/latex": [
       "$\\displaystyle \\lambda_{Vi}$"
      ],
      "text/plain": [
       "lambda_Vi"
      ]
     },
     "metadata": {},
     "output_type": "display_data"
    }
   ],
   "source": [
    "[Vrset, Viset] = symbols(\"Vrset Viset\")\n",
    "\n",
    "variables = [Vr, Vi, Isr, Isi] = symbols(\"Vr Vi I_Sr I_Si\")\n",
    "\n",
    "lambdas = [Lr, Li, Lsr, Lsi] = symbols(\"lambda_Vr lambda_Vi lambda_Sr lambda_Si\")\n",
    "\n",
    "eqns = [\n",
    "    Isr,\n",
    "    Isi,\n",
    "    Vr - Vrset,\n",
    "    Vi - Viset,\n",
    "]\n",
    "\n",
    "lagragify_and_display_derivatives(variables, lambdas, eqns)\n"
   ]
  },
  {
   "cell_type": "markdown",
   "metadata": {},
   "source": [
    "#### Infeasibility"
   ]
  },
  {
   "cell_type": "code",
   "execution_count": 3,
   "metadata": {},
   "outputs": [
    {
     "name": "stdout",
     "output_type": "stream",
     "text": [
      "Lagrange:\n"
     ]
    },
    {
     "data": {
      "text/latex": [
       "$\\displaystyle Iii^{2} + Iii \\lambda_{Vi} + Iir^{2} + Iir \\lambda_{Vr}$"
      ],
      "text/plain": [
       "Iii**2 + Iii*lambda_Vi + Iir**2 + Iir*lambda_Vr"
      ]
     },
     "metadata": {},
     "output_type": "display_data"
    },
    {
     "name": "stdout",
     "output_type": "stream",
     "text": [
      "Derivatives:\n",
      "dIir:\n"
     ]
    },
    {
     "data": {
      "text/latex": [
       "$\\displaystyle 2 Iir + \\lambda_{Vr}$"
      ],
      "text/plain": [
       "2*Iir + lambda_Vr"
      ]
     },
     "metadata": {},
     "output_type": "display_data"
    },
    {
     "name": "stdout",
     "output_type": "stream",
     "text": [
      "dIii:\n"
     ]
    },
    {
     "data": {
      "text/latex": [
       "$\\displaystyle 2 Iii + \\lambda_{Vi}$"
      ],
      "text/plain": [
       "2*Iii + lambda_Vi"
      ]
     },
     "metadata": {},
     "output_type": "display_data"
    }
   ],
   "source": [
    "variables = [Iir, Iii] = symbols(\"Iir Iii\")\n",
    "\n",
    "lambdas = [Lr, Li] = symbols(\"lambda_Vr lambda_Vi\")\n",
    "\n",
    "lagrange = Iir ** 2 + Iii ** 2 + Iir * Lr + Iii * Li\n",
    "\n",
    "display_derivatives(lagrange, variables)"
   ]
  },
  {
   "cell_type": "markdown",
   "metadata": {},
   "source": [
    "#### Branch"
   ]
  },
  {
   "cell_type": "code",
   "execution_count": 4,
   "metadata": {},
   "outputs": [
    {
     "name": "stdout",
     "output_type": "stream",
     "text": [
      "Lagrange:\n"
     ]
    },
    {
     "data": {
      "text/latex": [
       "$\\displaystyle \\lambda_{from,i} \\left(- B V_{from,r} + B V_{to,r} + G V_{from,i} - G V_{to,i}\\right) + \\lambda_{from,r} \\left(B V_{from,i} - B V_{to,i} + G V_{from,r} - G V_{to,r}\\right) + \\lambda_{to,i} \\left(B V_{from,r} - B V_{to,r} - G V_{from,i} + G V_{to,i}\\right) + \\lambda_{to,r} \\left(- B V_{from,i} + B V_{to,i} - G V_{from,r} + G V_{to,r}\\right)$"
      ],
      "text/plain": [
       "lambda_from,i*(-B*V_from,r + B*V_to,r + G*V_from,i - G*V_to,i) + lambda_from,r*(B*V_from,i - B*V_to,i + G*V_from,r - G*V_to,r) + lambda_to,i*(B*V_from,r - B*V_to,r - G*V_from,i + G*V_to,i) + lambda_to,r*(-B*V_from,i + B*V_to,i - G*V_from,r + G*V_to,r)"
      ]
     },
     "metadata": {},
     "output_type": "display_data"
    },
    {
     "name": "stdout",
     "output_type": "stream",
     "text": [
      "Derivatives:\n",
      "dV_from,r:\n"
     ]
    },
    {
     "data": {
      "text/latex": [
       "$\\displaystyle - B \\lambda_{from,i} + B \\lambda_{to,i} + G \\lambda_{from,r} - G \\lambda_{to,r}$"
      ],
      "text/plain": [
       "-B*lambda_from,i + B*lambda_to,i + G*lambda_from,r - G*lambda_to,r"
      ]
     },
     "metadata": {},
     "output_type": "display_data"
    },
    {
     "name": "stdout",
     "output_type": "stream",
     "text": [
      "dV_from,i:\n"
     ]
    },
    {
     "data": {
      "text/latex": [
       "$\\displaystyle B \\lambda_{from,r} - B \\lambda_{to,r} + G \\lambda_{from,i} - G \\lambda_{to,i}$"
      ],
      "text/plain": [
       "B*lambda_from,r - B*lambda_to,r + G*lambda_from,i - G*lambda_to,i"
      ]
     },
     "metadata": {},
     "output_type": "display_data"
    },
    {
     "name": "stdout",
     "output_type": "stream",
     "text": [
      "dV_to,r:\n"
     ]
    },
    {
     "data": {
      "text/latex": [
       "$\\displaystyle B \\lambda_{from,i} - B \\lambda_{to,i} - G \\lambda_{from,r} + G \\lambda_{to,r}$"
      ],
      "text/plain": [
       "B*lambda_from,i - B*lambda_to,i - G*lambda_from,r + G*lambda_to,r"
      ]
     },
     "metadata": {},
     "output_type": "display_data"
    },
    {
     "name": "stdout",
     "output_type": "stream",
     "text": [
      "dV_to,i:\n"
     ]
    },
    {
     "data": {
      "text/latex": [
       "$\\displaystyle - B \\lambda_{from,r} + B \\lambda_{to,r} - G \\lambda_{from,i} + G \\lambda_{to,i}$"
      ],
      "text/plain": [
       "-B*lambda_from,r + B*lambda_to,r - G*lambda_from,i + G*lambda_to,i"
      ]
     },
     "metadata": {},
     "output_type": "display_data"
    }
   ],
   "source": [
    "G, B = symbols('G B')\n",
    "variables = [Vr_from, Vi_from, Vr_to, Vi_to] = symbols('V_from\\,r V_from\\,i V_to\\,r V_to\\,i')\n",
    "lambdas = [Lr_from, Li_from, Lr_to, Li_to] = symbols('lambda_from\\,r lambda_from\\,i lambda_to\\,r lambda_to\\,i')\n",
    "\n",
    "eqns = [\n",
    "    G * Vr_from - G * Vr_to + B * Vi_from - B * Vi_to,\n",
    "    G * Vi_from - G * Vi_to - B * Vr_from + B * Vr_to,\n",
    "    G * Vr_to - G * Vr_from + B * Vi_to - B * Vi_from,\n",
    "    G * Vi_to - G * Vi_from - B * Vr_to + B * Vr_from   \n",
    "]\n",
    "\n",
    "lagragify_and_display_derivatives(variables, lambdas, eqns)"
   ]
  },
  {
   "cell_type": "markdown",
   "metadata": {},
   "source": [
    "#### Transformer\n",
    "\n",
    "(transformer losses are omitted since they utilize the branch stamps)"
   ]
  },
  {
   "cell_type": "code",
   "execution_count": 5,
   "metadata": {},
   "outputs": [
    {
     "name": "stdout",
     "output_type": "stream",
     "text": [
      "Lagrange:\n"
     ]
    },
    {
     "data": {
      "text/latex": [
       "$\\displaystyle I_{pri,i} \\lambda_{i} + I_{pri,r} \\lambda_{r} + \\lambda_{pri,Ii} \\left(V_{i} - V_{sec,i} trcos - V_{sec,r} trsin\\right) + \\lambda_{pri,Ir} \\left(V_{r} + V_{sec,i} trsin - V_{sec,r} trcos\\right) + \\lambda_{sec,Vi} \\left(- I_{pri,i} trcos + I_{pri,r} trsin\\right) + \\lambda_{sec,Vr} \\left(- I_{pri,i} trsin - I_{pri,r} trcos\\right)$"
      ],
      "text/plain": [
       "I_pri,i*lambda_i + I_pri,r*lambda_r + lambda_pri,Ii*(V_i - V_sec,i*trcos - V_sec,r*trsin) + lambda_pri,Ir*(V_r + V_sec,i*trsin - V_sec,r*trcos) + lambda_sec,Vi*(-I_pri,i*trcos + I_pri,r*trsin) + lambda_sec,Vr*(-I_pri,i*trsin - I_pri,r*trcos)"
      ]
     },
     "metadata": {},
     "output_type": "display_data"
    },
    {
     "name": "stdout",
     "output_type": "stream",
     "text": [
      "Derivatives:\n",
      "dV_r:\n"
     ]
    },
    {
     "data": {
      "text/latex": [
       "$\\displaystyle \\lambda_{pri,Ir}$"
      ],
      "text/plain": [
       "lambda_pri,Ir"
      ]
     },
     "metadata": {},
     "output_type": "display_data"
    },
    {
     "name": "stdout",
     "output_type": "stream",
     "text": [
      "dV_i:\n"
     ]
    },
    {
     "data": {
      "text/latex": [
       "$\\displaystyle \\lambda_{pri,Ii}$"
      ],
      "text/plain": [
       "lambda_pri,Ii"
      ]
     },
     "metadata": {},
     "output_type": "display_data"
    },
    {
     "name": "stdout",
     "output_type": "stream",
     "text": [
      "dI_pri,r:\n"
     ]
    },
    {
     "data": {
      "text/latex": [
       "$\\displaystyle \\lambda_{r} + \\lambda_{sec,Vi} trsin - \\lambda_{sec,Vr} trcos$"
      ],
      "text/plain": [
       "lambda_r + lambda_sec,Vi*trsin - lambda_sec,Vr*trcos"
      ]
     },
     "metadata": {},
     "output_type": "display_data"
    },
    {
     "name": "stdout",
     "output_type": "stream",
     "text": [
      "dI_pri,i:\n"
     ]
    },
    {
     "data": {
      "text/latex": [
       "$\\displaystyle \\lambda_{i} - \\lambda_{sec,Vi} trcos - \\lambda_{sec,Vr} trsin$"
      ],
      "text/plain": [
       "lambda_i - lambda_sec,Vi*trcos - lambda_sec,Vr*trsin"
      ]
     },
     "metadata": {},
     "output_type": "display_data"
    },
    {
     "name": "stdout",
     "output_type": "stream",
     "text": [
      "dV_sec,r:\n"
     ]
    },
    {
     "data": {
      "text/latex": [
       "$\\displaystyle - \\lambda_{pri,Ii} trsin - \\lambda_{pri,Ir} trcos$"
      ],
      "text/plain": [
       "-lambda_pri,Ii*trsin - lambda_pri,Ir*trcos"
      ]
     },
     "metadata": {},
     "output_type": "display_data"
    },
    {
     "name": "stdout",
     "output_type": "stream",
     "text": [
      "dV_sec,i:\n"
     ]
    },
    {
     "data": {
      "text/latex": [
       "$\\displaystyle - \\lambda_{pri,Ii} trcos + \\lambda_{pri,Ir} trsin$"
      ],
      "text/plain": [
       "-lambda_pri,Ii*trcos + lambda_pri,Ir*trsin"
      ]
     },
     "metadata": {},
     "output_type": "display_data"
    }
   ],
   "source": [
    "\n",
    "trcos, trsin = symbols('trcos trsin')\n",
    "variables = [Vr, Vi, Ir, Ii, V_pri_r, V_pri_i] = symbols('V_r V_i I_pri\\,r I_pri\\,i V_sec\\,r V_sec\\,i')\n",
    "lambdas = [Lr, Li, Lir, Lii, Lvr, Lvi] = symbols('lambda_r lambda_i lambda_pri\\,Ir lambda_pri\\,Ii lambda_sec\\,Vr lambda_sec\\,Vi')\n",
    "\n",
    "eqns = [\n",
    "    Ir,\n",
    "    Ii,\n",
    "    Vr - trcos * V_pri_r + trsin * V_pri_i,\n",
    "    Vi - trcos * V_pri_i - trsin * V_pri_r,\n",
    "    -trcos * Ir - trsin * Ii,\n",
    "    -trcos * Ii + trsin * Ir\n",
    "]\n",
    "\n",
    "lagragify_and_display_derivatives(variables, lambdas, eqns)\n"
   ]
  },
  {
   "cell_type": "markdown",
   "metadata": {},
   "source": [
    "#### Shunt"
   ]
  },
  {
   "cell_type": "code",
   "execution_count": 6,
   "metadata": {},
   "outputs": [
    {
     "name": "stdout",
     "output_type": "stream",
     "text": [
      "Lagrange:\n"
     ]
    },
    {
     "data": {
      "text/latex": [
       "$\\displaystyle \\lambda_{i} \\left(B Vr + G Vi\\right) + \\lambda_{r} \\left(- B Vi + G Vr\\right)$"
      ],
      "text/plain": [
       "lambda_i*(B*Vr + G*Vi) + lambda_r*(-B*Vi + G*Vr)"
      ]
     },
     "metadata": {},
     "output_type": "display_data"
    },
    {
     "name": "stdout",
     "output_type": "stream",
     "text": [
      "Derivatives:\n",
      "dVr:\n"
     ]
    },
    {
     "data": {
      "text/latex": [
       "$\\displaystyle B \\lambda_{i} + G \\lambda_{r}$"
      ],
      "text/plain": [
       "B*lambda_i + G*lambda_r"
      ]
     },
     "metadata": {},
     "output_type": "display_data"
    },
    {
     "name": "stdout",
     "output_type": "stream",
     "text": [
      "dVi:\n"
     ]
    },
    {
     "data": {
      "text/latex": [
       "$\\displaystyle - B \\lambda_{r} + G \\lambda_{i}$"
      ],
      "text/plain": [
       "-B*lambda_r + G*lambda_i"
      ]
     },
     "metadata": {},
     "output_type": "display_data"
    }
   ],
   "source": [
    "G, B = symbols('G B')\n",
    "variables = [Vr, Vi] = symbols('Vr Vi')\n",
    "lambdas = [Lr, Li] = symbols('lambda_r lambda_i')\n",
    "\n",
    "eqns = [\n",
    "    G * Vr - B * Vi,\n",
    "    G * Vi + B * Vr\n",
    "]\n",
    "\n",
    "lagragify_and_display_derivatives(variables, lambdas, eqns)"
   ]
  },
  {
   "cell_type": "markdown",
   "metadata": {},
   "source": [
    "#### Load"
   ]
  },
  {
   "cell_type": "code",
   "execution_count": 7,
   "metadata": {},
   "outputs": [
    {
     "name": "stdout",
     "output_type": "stream",
     "text": [
      "Lagrange:\n"
     ]
    },
    {
     "data": {
      "text/latex": [
       "$\\displaystyle \\frac{\\lambda_{i} \\left(V_{i} self.P - V_{r} self.Q\\right)}{V_{i}^{2} + V_{r}^{2}} + \\frac{\\lambda_{r} \\left(V_{i} self.Q + V_{r} self.P\\right)}{V_{i}^{2} + V_{r}^{2}}$"
      ],
      "text/plain": [
       "lambda_i*(V_i*self.P - V_r*self.Q)/(V_i**2 + V_r**2) + lambda_r*(V_i*self.Q + V_r*self.P)/(V_i**2 + V_r**2)"
      ]
     },
     "metadata": {},
     "output_type": "display_data"
    }
   ],
   "source": [
    "\n",
    "P, Q = symbols('self.P self.Q')\n",
    "variables = [Vr, Vi] = symbols('V_r V_i')\n",
    "lambdas = [Lr, Li] = symbols('lambda_r lambda_i')\n",
    "\n",
    "Ir = (P * Vr + Q * Vi) / (Vr ** 2 + Vi ** 2)\n",
    "Ii = (P * Vi - Q * Vr) / (Vr ** 2 + Vi ** 2)\n",
    "\n",
    "lagrange = Lr * Ir + Li * Ii\n",
    "\n",
    "print(\"Lagrange:\")\n",
    "disp.display(lagrange)"
   ]
  },
  {
   "cell_type": "code",
   "execution_count": 8,
   "metadata": {},
   "outputs": [
    {
     "name": "stdout",
     "output_type": "stream",
     "text": [
      "dVr:\n",
      "\n"
     ]
    },
    {
     "data": {
      "text/latex": [
       "$\\displaystyle - \\frac{2 V_{r} \\lambda_{i} \\left(V_{i} self.P - V_{r} self.Q\\right)}{\\left(V_{i}^{2} + V_{r}^{2}\\right)^{2}} - \\frac{2 V_{r} \\lambda_{r} \\left(V_{i} self.Q + V_{r} self.P\\right)}{\\left(V_{i}^{2} + V_{r}^{2}\\right)^{2}} - \\frac{\\lambda_{i} self.Q}{V_{i}^{2} + V_{r}^{2}} + \\frac{\\lambda_{r} self.P}{V_{i}^{2} + V_{r}^{2}}$"
      ],
      "text/plain": [
       "-2*V_r*lambda_i*(V_i*self.P - V_r*self.Q)/(V_i**2 + V_r**2)**2 - 2*V_r*lambda_r*(V_i*self.Q + V_r*self.P)/(V_i**2 + V_r**2)**2 - lambda_i*self.Q/(V_i**2 + V_r**2) + lambda_r*self.P/(V_i**2 + V_r**2)"
      ]
     },
     "metadata": {},
     "output_type": "display_data"
    },
    {
     "name": "stdout",
     "output_type": "stream",
     "text": [
      "-2*V_r*lambda_i*(V_i*self.P - V_r*self.Q)/(V_i**2 + V_r**2)**2 - 2*V_r*lambda_r*(V_i*self.Q + V_r*self.P)/(V_i**2 + V_r**2)**2 - lambda_i*self.Q/(V_i**2 + V_r**2) + lambda_r*self.P/(V_i**2 + V_r**2)\n",
      "\n",
      "\n",
      "dVr_V_r:\n",
      "\n"
     ]
    },
    {
     "data": {
      "text/latex": [
       "$\\displaystyle \\frac{8 V_{r}^{2} \\lambda_{i} \\left(V_{i} self.P - V_{r} self.Q\\right)}{\\left(V_{i}^{2} + V_{r}^{2}\\right)^{3}} + \\frac{8 V_{r}^{2} \\lambda_{r} \\left(V_{i} self.Q + V_{r} self.P\\right)}{\\left(V_{i}^{2} + V_{r}^{2}\\right)^{3}} + \\frac{4 V_{r} \\lambda_{i} self.Q}{\\left(V_{i}^{2} + V_{r}^{2}\\right)^{2}} - \\frac{4 V_{r} \\lambda_{r} self.P}{\\left(V_{i}^{2} + V_{r}^{2}\\right)^{2}} - \\frac{2 \\lambda_{i} \\left(V_{i} self.P - V_{r} self.Q\\right)}{\\left(V_{i}^{2} + V_{r}^{2}\\right)^{2}} - \\frac{2 \\lambda_{r} \\left(V_{i} self.Q + V_{r} self.P\\right)}{\\left(V_{i}^{2} + V_{r}^{2}\\right)^{2}}$"
      ],
      "text/plain": [
       "8*V_r**2*lambda_i*(V_i*self.P - V_r*self.Q)/(V_i**2 + V_r**2)**3 + 8*V_r**2*lambda_r*(V_i*self.Q + V_r*self.P)/(V_i**2 + V_r**2)**3 + 4*V_r*lambda_i*self.Q/(V_i**2 + V_r**2)**2 - 4*V_r*lambda_r*self.P/(V_i**2 + V_r**2)**2 - 2*lambda_i*(V_i*self.P - V_r*self.Q)/(V_i**2 + V_r**2)**2 - 2*lambda_r*(V_i*self.Q + V_r*self.P)/(V_i**2 + V_r**2)**2"
      ]
     },
     "metadata": {},
     "output_type": "display_data"
    },
    {
     "name": "stdout",
     "output_type": "stream",
     "text": [
      "8*V_r**2*lambda_i*(V_i*self.P - V_r*self.Q)/(V_i**2 + V_r**2)**3 + 8*V_r**2*lambda_r*(V_i*self.Q + V_r*self.P)/(V_i**2 + V_r**2)**3 + 4*V_r*lambda_i*self.Q/(V_i**2 + V_r**2)**2 - 4*V_r*lambda_r*self.P/(V_i**2 + V_r**2)**2 - 2*lambda_i*(V_i*self.P - V_r*self.Q)/(V_i**2 + V_r**2)**2 - 2*lambda_r*(V_i*self.Q + V_r*self.P)/(V_i**2 + V_r**2)**2\n",
      "\n",
      "\n",
      "dVr_V_i:\n",
      "\n"
     ]
    },
    {
     "data": {
      "text/latex": [
       "$\\displaystyle \\frac{8 V_{i} V_{r} \\lambda_{i} \\left(V_{i} self.P - V_{r} self.Q\\right)}{\\left(V_{i}^{2} + V_{r}^{2}\\right)^{3}} + \\frac{8 V_{i} V_{r} \\lambda_{r} \\left(V_{i} self.Q + V_{r} self.P\\right)}{\\left(V_{i}^{2} + V_{r}^{2}\\right)^{3}} + \\frac{2 V_{i} \\lambda_{i} self.Q}{\\left(V_{i}^{2} + V_{r}^{2}\\right)^{2}} - \\frac{2 V_{i} \\lambda_{r} self.P}{\\left(V_{i}^{2} + V_{r}^{2}\\right)^{2}} - \\frac{2 V_{r} \\lambda_{i} self.P}{\\left(V_{i}^{2} + V_{r}^{2}\\right)^{2}} - \\frac{2 V_{r} \\lambda_{r} self.Q}{\\left(V_{i}^{2} + V_{r}^{2}\\right)^{2}}$"
      ],
      "text/plain": [
       "8*V_i*V_r*lambda_i*(V_i*self.P - V_r*self.Q)/(V_i**2 + V_r**2)**3 + 8*V_i*V_r*lambda_r*(V_i*self.Q + V_r*self.P)/(V_i**2 + V_r**2)**3 + 2*V_i*lambda_i*self.Q/(V_i**2 + V_r**2)**2 - 2*V_i*lambda_r*self.P/(V_i**2 + V_r**2)**2 - 2*V_r*lambda_i*self.P/(V_i**2 + V_r**2)**2 - 2*V_r*lambda_r*self.Q/(V_i**2 + V_r**2)**2"
      ]
     },
     "metadata": {},
     "output_type": "display_data"
    },
    {
     "name": "stdout",
     "output_type": "stream",
     "text": [
      "8*V_i*V_r*lambda_i*(V_i*self.P - V_r*self.Q)/(V_i**2 + V_r**2)**3 + 8*V_i*V_r*lambda_r*(V_i*self.Q + V_r*self.P)/(V_i**2 + V_r**2)**3 + 2*V_i*lambda_i*self.Q/(V_i**2 + V_r**2)**2 - 2*V_i*lambda_r*self.P/(V_i**2 + V_r**2)**2 - 2*V_r*lambda_i*self.P/(V_i**2 + V_r**2)**2 - 2*V_r*lambda_r*self.Q/(V_i**2 + V_r**2)**2\n",
      "\n",
      "\n",
      "dVr_lambda_r:\n",
      "\n"
     ]
    },
    {
     "data": {
      "text/latex": [
       "$\\displaystyle - \\frac{2 V_{r} \\left(V_{i} self.Q + V_{r} self.P\\right)}{\\left(V_{i}^{2} + V_{r}^{2}\\right)^{2}} + \\frac{self.P}{V_{i}^{2} + V_{r}^{2}}$"
      ],
      "text/plain": [
       "-2*V_r*(V_i*self.Q + V_r*self.P)/(V_i**2 + V_r**2)**2 + self.P/(V_i**2 + V_r**2)"
      ]
     },
     "metadata": {},
     "output_type": "display_data"
    },
    {
     "name": "stdout",
     "output_type": "stream",
     "text": [
      "-2*V_r*(V_i*self.Q + V_r*self.P)/(V_i**2 + V_r**2)**2 + self.P/(V_i**2 + V_r**2)\n",
      "\n",
      "\n",
      "dVr_lambda_i:\n",
      "\n"
     ]
    },
    {
     "data": {
      "text/latex": [
       "$\\displaystyle - \\frac{2 V_{r} \\left(V_{i} self.P - V_{r} self.Q\\right)}{\\left(V_{i}^{2} + V_{r}^{2}\\right)^{2}} - \\frac{self.Q}{V_{i}^{2} + V_{r}^{2}}$"
      ],
      "text/plain": [
       "-2*V_r*(V_i*self.P - V_r*self.Q)/(V_i**2 + V_r**2)**2 - self.Q/(V_i**2 + V_r**2)"
      ]
     },
     "metadata": {},
     "output_type": "display_data"
    },
    {
     "name": "stdout",
     "output_type": "stream",
     "text": [
      "-2*V_r*(V_i*self.P - V_r*self.Q)/(V_i**2 + V_r**2)**2 - self.Q/(V_i**2 + V_r**2)\n",
      "\n",
      "\n"
     ]
    }
   ],
   "source": [
    "dVr = diff(lagrange, Vr)\n",
    "print(\"dVr:\\n\")\n",
    "disp.display(dVr)\n",
    "print(dVr)\n",
    "print(\"\\n\")\n",
    "\n",
    "for variable in variables + lambdas:\n",
    "    print(f'dVr_{variable}:\\n')\n",
    "    disp.display(diff(dVr, variable))\n",
    "    print(diff(dVr, variable))\n",
    "    print(\"\\n\")"
   ]
  },
  {
   "cell_type": "code",
   "execution_count": 9,
   "metadata": {},
   "outputs": [
    {
     "name": "stdout",
     "output_type": "stream",
     "text": [
      "dVi:\n",
      "\n"
     ]
    },
    {
     "data": {
      "text/latex": [
       "$\\displaystyle - \\frac{2 V_{i} \\lambda_{i} \\left(V_{i} self.P - V_{r} self.Q\\right)}{\\left(V_{i}^{2} + V_{r}^{2}\\right)^{2}} - \\frac{2 V_{i} \\lambda_{r} \\left(V_{i} self.Q + V_{r} self.P\\right)}{\\left(V_{i}^{2} + V_{r}^{2}\\right)^{2}} + \\frac{\\lambda_{i} self.P}{V_{i}^{2} + V_{r}^{2}} + \\frac{\\lambda_{r} self.Q}{V_{i}^{2} + V_{r}^{2}}$"
      ],
      "text/plain": [
       "-2*V_i*lambda_i*(V_i*self.P - V_r*self.Q)/(V_i**2 + V_r**2)**2 - 2*V_i*lambda_r*(V_i*self.Q + V_r*self.P)/(V_i**2 + V_r**2)**2 + lambda_i*self.P/(V_i**2 + V_r**2) + lambda_r*self.Q/(V_i**2 + V_r**2)"
      ]
     },
     "metadata": {},
     "output_type": "display_data"
    },
    {
     "name": "stdout",
     "output_type": "stream",
     "text": [
      "-2*V_i*lambda_i*(V_i*self.P - V_r*self.Q)/(V_i**2 + V_r**2)**2 - 2*V_i*lambda_r*(V_i*self.Q + V_r*self.P)/(V_i**2 + V_r**2)**2 + lambda_i*self.P/(V_i**2 + V_r**2) + lambda_r*self.Q/(V_i**2 + V_r**2)\n",
      "\n",
      "\n",
      "dVi_V_r:\n",
      "\n"
     ]
    },
    {
     "data": {
      "text/latex": [
       "$\\displaystyle \\frac{8 V_{i} V_{r} \\lambda_{i} \\left(V_{i} self.P - V_{r} self.Q\\right)}{\\left(V_{i}^{2} + V_{r}^{2}\\right)^{3}} + \\frac{8 V_{i} V_{r} \\lambda_{r} \\left(V_{i} self.Q + V_{r} self.P\\right)}{\\left(V_{i}^{2} + V_{r}^{2}\\right)^{3}} + \\frac{2 V_{i} \\lambda_{i} self.Q}{\\left(V_{i}^{2} + V_{r}^{2}\\right)^{2}} - \\frac{2 V_{i} \\lambda_{r} self.P}{\\left(V_{i}^{2} + V_{r}^{2}\\right)^{2}} - \\frac{2 V_{r} \\lambda_{i} self.P}{\\left(V_{i}^{2} + V_{r}^{2}\\right)^{2}} - \\frac{2 V_{r} \\lambda_{r} self.Q}{\\left(V_{i}^{2} + V_{r}^{2}\\right)^{2}}$"
      ],
      "text/plain": [
       "8*V_i*V_r*lambda_i*(V_i*self.P - V_r*self.Q)/(V_i**2 + V_r**2)**3 + 8*V_i*V_r*lambda_r*(V_i*self.Q + V_r*self.P)/(V_i**2 + V_r**2)**3 + 2*V_i*lambda_i*self.Q/(V_i**2 + V_r**2)**2 - 2*V_i*lambda_r*self.P/(V_i**2 + V_r**2)**2 - 2*V_r*lambda_i*self.P/(V_i**2 + V_r**2)**2 - 2*V_r*lambda_r*self.Q/(V_i**2 + V_r**2)**2"
      ]
     },
     "metadata": {},
     "output_type": "display_data"
    },
    {
     "name": "stdout",
     "output_type": "stream",
     "text": [
      "8*V_i*V_r*lambda_i*(V_i*self.P - V_r*self.Q)/(V_i**2 + V_r**2)**3 + 8*V_i*V_r*lambda_r*(V_i*self.Q + V_r*self.P)/(V_i**2 + V_r**2)**3 + 2*V_i*lambda_i*self.Q/(V_i**2 + V_r**2)**2 - 2*V_i*lambda_r*self.P/(V_i**2 + V_r**2)**2 - 2*V_r*lambda_i*self.P/(V_i**2 + V_r**2)**2 - 2*V_r*lambda_r*self.Q/(V_i**2 + V_r**2)**2\n",
      "\n",
      "\n",
      "dVi_V_i:\n",
      "\n"
     ]
    },
    {
     "data": {
      "text/latex": [
       "$\\displaystyle \\frac{8 V_{i}^{2} \\lambda_{i} \\left(V_{i} self.P - V_{r} self.Q\\right)}{\\left(V_{i}^{2} + V_{r}^{2}\\right)^{3}} + \\frac{8 V_{i}^{2} \\lambda_{r} \\left(V_{i} self.Q + V_{r} self.P\\right)}{\\left(V_{i}^{2} + V_{r}^{2}\\right)^{3}} - \\frac{4 V_{i} \\lambda_{i} self.P}{\\left(V_{i}^{2} + V_{r}^{2}\\right)^{2}} - \\frac{4 V_{i} \\lambda_{r} self.Q}{\\left(V_{i}^{2} + V_{r}^{2}\\right)^{2}} - \\frac{2 \\lambda_{i} \\left(V_{i} self.P - V_{r} self.Q\\right)}{\\left(V_{i}^{2} + V_{r}^{2}\\right)^{2}} - \\frac{2 \\lambda_{r} \\left(V_{i} self.Q + V_{r} self.P\\right)}{\\left(V_{i}^{2} + V_{r}^{2}\\right)^{2}}$"
      ],
      "text/plain": [
       "8*V_i**2*lambda_i*(V_i*self.P - V_r*self.Q)/(V_i**2 + V_r**2)**3 + 8*V_i**2*lambda_r*(V_i*self.Q + V_r*self.P)/(V_i**2 + V_r**2)**3 - 4*V_i*lambda_i*self.P/(V_i**2 + V_r**2)**2 - 4*V_i*lambda_r*self.Q/(V_i**2 + V_r**2)**2 - 2*lambda_i*(V_i*self.P - V_r*self.Q)/(V_i**2 + V_r**2)**2 - 2*lambda_r*(V_i*self.Q + V_r*self.P)/(V_i**2 + V_r**2)**2"
      ]
     },
     "metadata": {},
     "output_type": "display_data"
    },
    {
     "name": "stdout",
     "output_type": "stream",
     "text": [
      "8*V_i**2*lambda_i*(V_i*self.P - V_r*self.Q)/(V_i**2 + V_r**2)**3 + 8*V_i**2*lambda_r*(V_i*self.Q + V_r*self.P)/(V_i**2 + V_r**2)**3 - 4*V_i*lambda_i*self.P/(V_i**2 + V_r**2)**2 - 4*V_i*lambda_r*self.Q/(V_i**2 + V_r**2)**2 - 2*lambda_i*(V_i*self.P - V_r*self.Q)/(V_i**2 + V_r**2)**2 - 2*lambda_r*(V_i*self.Q + V_r*self.P)/(V_i**2 + V_r**2)**2\n",
      "\n",
      "\n",
      "dVi_lambda_r:\n",
      "\n"
     ]
    },
    {
     "data": {
      "text/latex": [
       "$\\displaystyle - \\frac{2 V_{i} \\left(V_{i} self.Q + V_{r} self.P\\right)}{\\left(V_{i}^{2} + V_{r}^{2}\\right)^{2}} + \\frac{self.Q}{V_{i}^{2} + V_{r}^{2}}$"
      ],
      "text/plain": [
       "-2*V_i*(V_i*self.Q + V_r*self.P)/(V_i**2 + V_r**2)**2 + self.Q/(V_i**2 + V_r**2)"
      ]
     },
     "metadata": {},
     "output_type": "display_data"
    },
    {
     "name": "stdout",
     "output_type": "stream",
     "text": [
      "-2*V_i*(V_i*self.Q + V_r*self.P)/(V_i**2 + V_r**2)**2 + self.Q/(V_i**2 + V_r**2)\n",
      "\n",
      "\n",
      "dVi_lambda_i:\n",
      "\n"
     ]
    },
    {
     "data": {
      "text/latex": [
       "$\\displaystyle - \\frac{2 V_{i} \\left(V_{i} self.P - V_{r} self.Q\\right)}{\\left(V_{i}^{2} + V_{r}^{2}\\right)^{2}} + \\frac{self.P}{V_{i}^{2} + V_{r}^{2}}$"
      ],
      "text/plain": [
       "-2*V_i*(V_i*self.P - V_r*self.Q)/(V_i**2 + V_r**2)**2 + self.P/(V_i**2 + V_r**2)"
      ]
     },
     "metadata": {},
     "output_type": "display_data"
    },
    {
     "name": "stdout",
     "output_type": "stream",
     "text": [
      "-2*V_i*(V_i*self.P - V_r*self.Q)/(V_i**2 + V_r**2)**2 + self.P/(V_i**2 + V_r**2)\n",
      "\n",
      "\n"
     ]
    }
   ],
   "source": [
    "dVi = diff(lagrange, Vi)\n",
    "print(\"dVi:\\n\")\n",
    "disp.display(dVi)\n",
    "print(dVi)\n",
    "print(\"\\n\")\n",
    "\n",
    "for variable in variables + lambdas:\n",
    "    print(f'dVi_{variable}:\\n')\n",
    "    disp.display(diff(dVi, variable))\n",
    "    print(diff(dVi, variable))\n",
    "    print(\"\\n\")"
   ]
  },
  {
   "cell_type": "markdown",
   "metadata": {},
   "source": [
    "#### Generator"
   ]
  },
  {
   "cell_type": "code",
   "execution_count": 10,
   "metadata": {},
   "outputs": [
    {
     "name": "stdout",
     "output_type": "stream",
     "text": [
      "Lagrange:\n"
     ]
    },
    {
     "data": {
      "text/latex": [
       "$\\displaystyle \\lambda_{Q} \\left(- V_{i}^{2} - V_{r}^{2} + self.Vset^{2}\\right) + \\frac{\\lambda_{i} \\left(- Q V_{r} + V_{i} self.P\\right)}{V_{i}^{2} + V_{r}^{2}} + \\frac{\\lambda_{r} \\left(Q V_{i} + V_{r} self.P\\right)}{V_{i}^{2} + V_{r}^{2}}$"
      ],
      "text/plain": [
       "lambda_Q*(-V_i**2 - V_r**2 + self.Vset**2) + lambda_i*(-Q*V_r + V_i*self.P)/(V_i**2 + V_r**2) + lambda_r*(Q*V_i + V_r*self.P)/(V_i**2 + V_r**2)"
      ]
     },
     "metadata": {},
     "output_type": "display_data"
    }
   ],
   "source": [
    "P, Vset = symbols('self.P self.Vset')\n",
    "variables = [Vr, Vi, Q] = symbols('V_r V_i Q')\n",
    "lambdas = [Lr, Li, LQ] = symbols('lambda_r lambda_i lambda_Q')\n",
    "\n",
    "Ir = (P * Vr + Q * Vi) / (Vr ** 2 + Vi ** 2)\n",
    "Ii = (P * Vi - Q * Vr) / (Vr ** 2 + Vi ** 2)\n",
    "Q_k = Vset ** 2 - Vr ** 2 - Vi ** 2\n",
    "\n",
    "lagrange = Lr * Ir + Li * Ii + Q_k * LQ\n",
    "\n",
    "print(\"Lagrange:\")\n",
    "disp.display(lagrange)"
   ]
  },
  {
   "cell_type": "code",
   "execution_count": 11,
   "metadata": {},
   "outputs": [
    {
     "name": "stdout",
     "output_type": "stream",
     "text": [
      "dVr:\n",
      "\n"
     ]
    },
    {
     "data": {
      "text/latex": [
       "$\\displaystyle - \\frac{Q \\lambda_{i}}{V_{i}^{2} + V_{r}^{2}} - 2 V_{r} \\lambda_{Q} - \\frac{2 V_{r} \\lambda_{i} \\left(- Q V_{r} + V_{i} self.P\\right)}{\\left(V_{i}^{2} + V_{r}^{2}\\right)^{2}} - \\frac{2 V_{r} \\lambda_{r} \\left(Q V_{i} + V_{r} self.P\\right)}{\\left(V_{i}^{2} + V_{r}^{2}\\right)^{2}} + \\frac{\\lambda_{r} self.P}{V_{i}^{2} + V_{r}^{2}}$"
      ],
      "text/plain": [
       "-Q*lambda_i/(V_i**2 + V_r**2) - 2*V_r*lambda_Q - 2*V_r*lambda_i*(-Q*V_r + V_i*self.P)/(V_i**2 + V_r**2)**2 - 2*V_r*lambda_r*(Q*V_i + V_r*self.P)/(V_i**2 + V_r**2)**2 + lambda_r*self.P/(V_i**2 + V_r**2)"
      ]
     },
     "metadata": {},
     "output_type": "display_data"
    },
    {
     "name": "stdout",
     "output_type": "stream",
     "text": [
      "-Q*lambda_i/(V_i**2 + V_r**2) - 2*V_r*lambda_Q - 2*V_r*lambda_i*(-Q*V_r + V_i*self.P)/(V_i**2 + V_r**2)**2 - 2*V_r*lambda_r*(Q*V_i + V_r*self.P)/(V_i**2 + V_r**2)**2 + lambda_r*self.P/(V_i**2 + V_r**2)\n",
      "\n",
      "\n",
      "dVr_V_r:\n",
      "\n"
     ]
    },
    {
     "data": {
      "text/latex": [
       "$\\displaystyle \\frac{4 Q V_{r} \\lambda_{i}}{\\left(V_{i}^{2} + V_{r}^{2}\\right)^{2}} + \\frac{8 V_{r}^{2} \\lambda_{i} \\left(- Q V_{r} + V_{i} self.P\\right)}{\\left(V_{i}^{2} + V_{r}^{2}\\right)^{3}} + \\frac{8 V_{r}^{2} \\lambda_{r} \\left(Q V_{i} + V_{r} self.P\\right)}{\\left(V_{i}^{2} + V_{r}^{2}\\right)^{3}} - \\frac{4 V_{r} \\lambda_{r} self.P}{\\left(V_{i}^{2} + V_{r}^{2}\\right)^{2}} - 2 \\lambda_{Q} - \\frac{2 \\lambda_{i} \\left(- Q V_{r} + V_{i} self.P\\right)}{\\left(V_{i}^{2} + V_{r}^{2}\\right)^{2}} - \\frac{2 \\lambda_{r} \\left(Q V_{i} + V_{r} self.P\\right)}{\\left(V_{i}^{2} + V_{r}^{2}\\right)^{2}}$"
      ],
      "text/plain": [
       "4*Q*V_r*lambda_i/(V_i**2 + V_r**2)**2 + 8*V_r**2*lambda_i*(-Q*V_r + V_i*self.P)/(V_i**2 + V_r**2)**3 + 8*V_r**2*lambda_r*(Q*V_i + V_r*self.P)/(V_i**2 + V_r**2)**3 - 4*V_r*lambda_r*self.P/(V_i**2 + V_r**2)**2 - 2*lambda_Q - 2*lambda_i*(-Q*V_r + V_i*self.P)/(V_i**2 + V_r**2)**2 - 2*lambda_r*(Q*V_i + V_r*self.P)/(V_i**2 + V_r**2)**2"
      ]
     },
     "metadata": {},
     "output_type": "display_data"
    },
    {
     "name": "stdout",
     "output_type": "stream",
     "text": [
      "4*Q*V_r*lambda_i/(V_i**2 + V_r**2)**2 + 8*V_r**2*lambda_i*(-Q*V_r + V_i*self.P)/(V_i**2 + V_r**2)**3 + 8*V_r**2*lambda_r*(Q*V_i + V_r*self.P)/(V_i**2 + V_r**2)**3 - 4*V_r*lambda_r*self.P/(V_i**2 + V_r**2)**2 - 2*lambda_Q - 2*lambda_i*(-Q*V_r + V_i*self.P)/(V_i**2 + V_r**2)**2 - 2*lambda_r*(Q*V_i + V_r*self.P)/(V_i**2 + V_r**2)**2\n",
      "\n",
      "\n",
      "dVr_V_i:\n",
      "\n"
     ]
    },
    {
     "data": {
      "text/latex": [
       "$\\displaystyle \\frac{2 Q V_{i} \\lambda_{i}}{\\left(V_{i}^{2} + V_{r}^{2}\\right)^{2}} - \\frac{2 Q V_{r} \\lambda_{r}}{\\left(V_{i}^{2} + V_{r}^{2}\\right)^{2}} + \\frac{8 V_{i} V_{r} \\lambda_{i} \\left(- Q V_{r} + V_{i} self.P\\right)}{\\left(V_{i}^{2} + V_{r}^{2}\\right)^{3}} + \\frac{8 V_{i} V_{r} \\lambda_{r} \\left(Q V_{i} + V_{r} self.P\\right)}{\\left(V_{i}^{2} + V_{r}^{2}\\right)^{3}} - \\frac{2 V_{i} \\lambda_{r} self.P}{\\left(V_{i}^{2} + V_{r}^{2}\\right)^{2}} - \\frac{2 V_{r} \\lambda_{i} self.P}{\\left(V_{i}^{2} + V_{r}^{2}\\right)^{2}}$"
      ],
      "text/plain": [
       "2*Q*V_i*lambda_i/(V_i**2 + V_r**2)**2 - 2*Q*V_r*lambda_r/(V_i**2 + V_r**2)**2 + 8*V_i*V_r*lambda_i*(-Q*V_r + V_i*self.P)/(V_i**2 + V_r**2)**3 + 8*V_i*V_r*lambda_r*(Q*V_i + V_r*self.P)/(V_i**2 + V_r**2)**3 - 2*V_i*lambda_r*self.P/(V_i**2 + V_r**2)**2 - 2*V_r*lambda_i*self.P/(V_i**2 + V_r**2)**2"
      ]
     },
     "metadata": {},
     "output_type": "display_data"
    },
    {
     "name": "stdout",
     "output_type": "stream",
     "text": [
      "2*Q*V_i*lambda_i/(V_i**2 + V_r**2)**2 - 2*Q*V_r*lambda_r/(V_i**2 + V_r**2)**2 + 8*V_i*V_r*lambda_i*(-Q*V_r + V_i*self.P)/(V_i**2 + V_r**2)**3 + 8*V_i*V_r*lambda_r*(Q*V_i + V_r*self.P)/(V_i**2 + V_r**2)**3 - 2*V_i*lambda_r*self.P/(V_i**2 + V_r**2)**2 - 2*V_r*lambda_i*self.P/(V_i**2 + V_r**2)**2\n",
      "\n",
      "\n",
      "dVr_Q:\n",
      "\n"
     ]
    },
    {
     "data": {
      "text/latex": [
       "$\\displaystyle - \\frac{2 V_{i} V_{r} \\lambda_{r}}{\\left(V_{i}^{2} + V_{r}^{2}\\right)^{2}} + \\frac{2 V_{r}^{2} \\lambda_{i}}{\\left(V_{i}^{2} + V_{r}^{2}\\right)^{2}} - \\frac{\\lambda_{i}}{V_{i}^{2} + V_{r}^{2}}$"
      ],
      "text/plain": [
       "-2*V_i*V_r*lambda_r/(V_i**2 + V_r**2)**2 + 2*V_r**2*lambda_i/(V_i**2 + V_r**2)**2 - lambda_i/(V_i**2 + V_r**2)"
      ]
     },
     "metadata": {},
     "output_type": "display_data"
    },
    {
     "name": "stdout",
     "output_type": "stream",
     "text": [
      "-2*V_i*V_r*lambda_r/(V_i**2 + V_r**2)**2 + 2*V_r**2*lambda_i/(V_i**2 + V_r**2)**2 - lambda_i/(V_i**2 + V_r**2)\n",
      "\n",
      "\n",
      "dVr_lambda_r:\n",
      "\n"
     ]
    },
    {
     "data": {
      "text/latex": [
       "$\\displaystyle - \\frac{2 V_{r} \\left(Q V_{i} + V_{r} self.P\\right)}{\\left(V_{i}^{2} + V_{r}^{2}\\right)^{2}} + \\frac{self.P}{V_{i}^{2} + V_{r}^{2}}$"
      ],
      "text/plain": [
       "-2*V_r*(Q*V_i + V_r*self.P)/(V_i**2 + V_r**2)**2 + self.P/(V_i**2 + V_r**2)"
      ]
     },
     "metadata": {},
     "output_type": "display_data"
    },
    {
     "name": "stdout",
     "output_type": "stream",
     "text": [
      "-2*V_r*(Q*V_i + V_r*self.P)/(V_i**2 + V_r**2)**2 + self.P/(V_i**2 + V_r**2)\n",
      "\n",
      "\n",
      "dVr_lambda_i:\n",
      "\n"
     ]
    },
    {
     "data": {
      "text/latex": [
       "$\\displaystyle - \\frac{Q}{V_{i}^{2} + V_{r}^{2}} - \\frac{2 V_{r} \\left(- Q V_{r} + V_{i} self.P\\right)}{\\left(V_{i}^{2} + V_{r}^{2}\\right)^{2}}$"
      ],
      "text/plain": [
       "-Q/(V_i**2 + V_r**2) - 2*V_r*(-Q*V_r + V_i*self.P)/(V_i**2 + V_r**2)**2"
      ]
     },
     "metadata": {},
     "output_type": "display_data"
    },
    {
     "name": "stdout",
     "output_type": "stream",
     "text": [
      "-Q/(V_i**2 + V_r**2) - 2*V_r*(-Q*V_r + V_i*self.P)/(V_i**2 + V_r**2)**2\n",
      "\n",
      "\n",
      "dVr_lambda_Q:\n",
      "\n"
     ]
    },
    {
     "data": {
      "text/latex": [
       "$\\displaystyle - 2 V_{r}$"
      ],
      "text/plain": [
       "-2*V_r"
      ]
     },
     "metadata": {},
     "output_type": "display_data"
    },
    {
     "name": "stdout",
     "output_type": "stream",
     "text": [
      "-2*V_r\n",
      "\n",
      "\n"
     ]
    }
   ],
   "source": [
    "dVr = diff(lagrange, Vr)\n",
    "print(\"dVr:\\n\")\n",
    "disp.display(dVr)\n",
    "print(dVr)\n",
    "print(\"\\n\")\n",
    "\n",
    "for variable in variables + lambdas:\n",
    "    print(f'dVr_{variable}:\\n')\n",
    "    disp.display(diff(dVr, variable))\n",
    "    print(diff(dVr, variable))\n",
    "    print(\"\\n\")"
   ]
  },
  {
   "cell_type": "code",
   "execution_count": 12,
   "metadata": {},
   "outputs": [
    {
     "name": "stdout",
     "output_type": "stream",
     "text": [
      "dVi:\n",
      "\n"
     ]
    },
    {
     "data": {
      "text/latex": [
       "$\\displaystyle \\frac{Q \\lambda_{r}}{V_{i}^{2} + V_{r}^{2}} - 2 V_{i} \\lambda_{Q} - \\frac{2 V_{i} \\lambda_{i} \\left(- Q V_{r} + V_{i} self.P\\right)}{\\left(V_{i}^{2} + V_{r}^{2}\\right)^{2}} - \\frac{2 V_{i} \\lambda_{r} \\left(Q V_{i} + V_{r} self.P\\right)}{\\left(V_{i}^{2} + V_{r}^{2}\\right)^{2}} + \\frac{\\lambda_{i} self.P}{V_{i}^{2} + V_{r}^{2}}$"
      ],
      "text/plain": [
       "Q*lambda_r/(V_i**2 + V_r**2) - 2*V_i*lambda_Q - 2*V_i*lambda_i*(-Q*V_r + V_i*self.P)/(V_i**2 + V_r**2)**2 - 2*V_i*lambda_r*(Q*V_i + V_r*self.P)/(V_i**2 + V_r**2)**2 + lambda_i*self.P/(V_i**2 + V_r**2)"
      ]
     },
     "metadata": {},
     "output_type": "display_data"
    },
    {
     "name": "stdout",
     "output_type": "stream",
     "text": [
      "Q*lambda_r/(V_i**2 + V_r**2) - 2*V_i*lambda_Q - 2*V_i*lambda_i*(-Q*V_r + V_i*self.P)/(V_i**2 + V_r**2)**2 - 2*V_i*lambda_r*(Q*V_i + V_r*self.P)/(V_i**2 + V_r**2)**2 + lambda_i*self.P/(V_i**2 + V_r**2)\n",
      "\n",
      "\n",
      "dVi_V_r:\n",
      "\n"
     ]
    },
    {
     "data": {
      "text/latex": [
       "$\\displaystyle \\frac{2 Q V_{i} \\lambda_{i}}{\\left(V_{i}^{2} + V_{r}^{2}\\right)^{2}} - \\frac{2 Q V_{r} \\lambda_{r}}{\\left(V_{i}^{2} + V_{r}^{2}\\right)^{2}} + \\frac{8 V_{i} V_{r} \\lambda_{i} \\left(- Q V_{r} + V_{i} self.P\\right)}{\\left(V_{i}^{2} + V_{r}^{2}\\right)^{3}} + \\frac{8 V_{i} V_{r} \\lambda_{r} \\left(Q V_{i} + V_{r} self.P\\right)}{\\left(V_{i}^{2} + V_{r}^{2}\\right)^{3}} - \\frac{2 V_{i} \\lambda_{r} self.P}{\\left(V_{i}^{2} + V_{r}^{2}\\right)^{2}} - \\frac{2 V_{r} \\lambda_{i} self.P}{\\left(V_{i}^{2} + V_{r}^{2}\\right)^{2}}$"
      ],
      "text/plain": [
       "2*Q*V_i*lambda_i/(V_i**2 + V_r**2)**2 - 2*Q*V_r*lambda_r/(V_i**2 + V_r**2)**2 + 8*V_i*V_r*lambda_i*(-Q*V_r + V_i*self.P)/(V_i**2 + V_r**2)**3 + 8*V_i*V_r*lambda_r*(Q*V_i + V_r*self.P)/(V_i**2 + V_r**2)**3 - 2*V_i*lambda_r*self.P/(V_i**2 + V_r**2)**2 - 2*V_r*lambda_i*self.P/(V_i**2 + V_r**2)**2"
      ]
     },
     "metadata": {},
     "output_type": "display_data"
    },
    {
     "name": "stdout",
     "output_type": "stream",
     "text": [
      "2*Q*V_i*lambda_i/(V_i**2 + V_r**2)**2 - 2*Q*V_r*lambda_r/(V_i**2 + V_r**2)**2 + 8*V_i*V_r*lambda_i*(-Q*V_r + V_i*self.P)/(V_i**2 + V_r**2)**3 + 8*V_i*V_r*lambda_r*(Q*V_i + V_r*self.P)/(V_i**2 + V_r**2)**3 - 2*V_i*lambda_r*self.P/(V_i**2 + V_r**2)**2 - 2*V_r*lambda_i*self.P/(V_i**2 + V_r**2)**2\n",
      "\n",
      "\n",
      "dVi_V_i:\n",
      "\n"
     ]
    },
    {
     "data": {
      "text/latex": [
       "$\\displaystyle - \\frac{4 Q V_{i} \\lambda_{r}}{\\left(V_{i}^{2} + V_{r}^{2}\\right)^{2}} + \\frac{8 V_{i}^{2} \\lambda_{i} \\left(- Q V_{r} + V_{i} self.P\\right)}{\\left(V_{i}^{2} + V_{r}^{2}\\right)^{3}} + \\frac{8 V_{i}^{2} \\lambda_{r} \\left(Q V_{i} + V_{r} self.P\\right)}{\\left(V_{i}^{2} + V_{r}^{2}\\right)^{3}} - \\frac{4 V_{i} \\lambda_{i} self.P}{\\left(V_{i}^{2} + V_{r}^{2}\\right)^{2}} - 2 \\lambda_{Q} - \\frac{2 \\lambda_{i} \\left(- Q V_{r} + V_{i} self.P\\right)}{\\left(V_{i}^{2} + V_{r}^{2}\\right)^{2}} - \\frac{2 \\lambda_{r} \\left(Q V_{i} + V_{r} self.P\\right)}{\\left(V_{i}^{2} + V_{r}^{2}\\right)^{2}}$"
      ],
      "text/plain": [
       "-4*Q*V_i*lambda_r/(V_i**2 + V_r**2)**2 + 8*V_i**2*lambda_i*(-Q*V_r + V_i*self.P)/(V_i**2 + V_r**2)**3 + 8*V_i**2*lambda_r*(Q*V_i + V_r*self.P)/(V_i**2 + V_r**2)**3 - 4*V_i*lambda_i*self.P/(V_i**2 + V_r**2)**2 - 2*lambda_Q - 2*lambda_i*(-Q*V_r + V_i*self.P)/(V_i**2 + V_r**2)**2 - 2*lambda_r*(Q*V_i + V_r*self.P)/(V_i**2 + V_r**2)**2"
      ]
     },
     "metadata": {},
     "output_type": "display_data"
    },
    {
     "name": "stdout",
     "output_type": "stream",
     "text": [
      "-4*Q*V_i*lambda_r/(V_i**2 + V_r**2)**2 + 8*V_i**2*lambda_i*(-Q*V_r + V_i*self.P)/(V_i**2 + V_r**2)**3 + 8*V_i**2*lambda_r*(Q*V_i + V_r*self.P)/(V_i**2 + V_r**2)**3 - 4*V_i*lambda_i*self.P/(V_i**2 + V_r**2)**2 - 2*lambda_Q - 2*lambda_i*(-Q*V_r + V_i*self.P)/(V_i**2 + V_r**2)**2 - 2*lambda_r*(Q*V_i + V_r*self.P)/(V_i**2 + V_r**2)**2\n",
      "\n",
      "\n",
      "dVi_Q:\n",
      "\n"
     ]
    },
    {
     "data": {
      "text/latex": [
       "$\\displaystyle - \\frac{2 V_{i}^{2} \\lambda_{r}}{\\left(V_{i}^{2} + V_{r}^{2}\\right)^{2}} + \\frac{2 V_{i} V_{r} \\lambda_{i}}{\\left(V_{i}^{2} + V_{r}^{2}\\right)^{2}} + \\frac{\\lambda_{r}}{V_{i}^{2} + V_{r}^{2}}$"
      ],
      "text/plain": [
       "-2*V_i**2*lambda_r/(V_i**2 + V_r**2)**2 + 2*V_i*V_r*lambda_i/(V_i**2 + V_r**2)**2 + lambda_r/(V_i**2 + V_r**2)"
      ]
     },
     "metadata": {},
     "output_type": "display_data"
    },
    {
     "name": "stdout",
     "output_type": "stream",
     "text": [
      "-2*V_i**2*lambda_r/(V_i**2 + V_r**2)**2 + 2*V_i*V_r*lambda_i/(V_i**2 + V_r**2)**2 + lambda_r/(V_i**2 + V_r**2)\n",
      "\n",
      "\n",
      "dVi_lambda_r:\n",
      "\n"
     ]
    },
    {
     "data": {
      "text/latex": [
       "$\\displaystyle \\frac{Q}{V_{i}^{2} + V_{r}^{2}} - \\frac{2 V_{i} \\left(Q V_{i} + V_{r} self.P\\right)}{\\left(V_{i}^{2} + V_{r}^{2}\\right)^{2}}$"
      ],
      "text/plain": [
       "Q/(V_i**2 + V_r**2) - 2*V_i*(Q*V_i + V_r*self.P)/(V_i**2 + V_r**2)**2"
      ]
     },
     "metadata": {},
     "output_type": "display_data"
    },
    {
     "name": "stdout",
     "output_type": "stream",
     "text": [
      "Q/(V_i**2 + V_r**2) - 2*V_i*(Q*V_i + V_r*self.P)/(V_i**2 + V_r**2)**2\n",
      "\n",
      "\n",
      "dVi_lambda_i:\n",
      "\n"
     ]
    },
    {
     "data": {
      "text/latex": [
       "$\\displaystyle - \\frac{2 V_{i} \\left(- Q V_{r} + V_{i} self.P\\right)}{\\left(V_{i}^{2} + V_{r}^{2}\\right)^{2}} + \\frac{self.P}{V_{i}^{2} + V_{r}^{2}}$"
      ],
      "text/plain": [
       "-2*V_i*(-Q*V_r + V_i*self.P)/(V_i**2 + V_r**2)**2 + self.P/(V_i**2 + V_r**2)"
      ]
     },
     "metadata": {},
     "output_type": "display_data"
    },
    {
     "name": "stdout",
     "output_type": "stream",
     "text": [
      "-2*V_i*(-Q*V_r + V_i*self.P)/(V_i**2 + V_r**2)**2 + self.P/(V_i**2 + V_r**2)\n",
      "\n",
      "\n",
      "dVi_lambda_Q:\n",
      "\n"
     ]
    },
    {
     "data": {
      "text/latex": [
       "$\\displaystyle - 2 V_{i}$"
      ],
      "text/plain": [
       "-2*V_i"
      ]
     },
     "metadata": {},
     "output_type": "display_data"
    },
    {
     "name": "stdout",
     "output_type": "stream",
     "text": [
      "-2*V_i\n",
      "\n",
      "\n"
     ]
    }
   ],
   "source": [
    "dVi = diff(lagrange, Vi)\n",
    "print(\"dVi:\\n\")\n",
    "disp.display(dVi)\n",
    "print(dVi)\n",
    "print(\"\\n\")\n",
    "\n",
    "for variable in variables + lambdas:\n",
    "    print(f'dVi_{variable}:\\n')\n",
    "    disp.display(diff(dVi, variable))\n",
    "    print(diff(dVi, variable))\n",
    "    print(\"\\n\")"
   ]
  },
  {
   "cell_type": "code",
   "execution_count": 13,
   "metadata": {},
   "outputs": [
    {
     "name": "stdout",
     "output_type": "stream",
     "text": [
      "dQ:\n",
      "\n"
     ]
    },
    {
     "data": {
      "text/latex": [
       "$\\displaystyle \\frac{V_{i} \\lambda_{r}}{V_{i}^{2} + V_{r}^{2}} - \\frac{V_{r} \\lambda_{i}}{V_{i}^{2} + V_{r}^{2}}$"
      ],
      "text/plain": [
       "V_i*lambda_r/(V_i**2 + V_r**2) - V_r*lambda_i/(V_i**2 + V_r**2)"
      ]
     },
     "metadata": {},
     "output_type": "display_data"
    },
    {
     "name": "stdout",
     "output_type": "stream",
     "text": [
      "V_i*lambda_r/(V_i**2 + V_r**2) - V_r*lambda_i/(V_i**2 + V_r**2)\n",
      "\n",
      "\n",
      "dQ_V_r:\n",
      "\n"
     ]
    },
    {
     "data": {
      "text/latex": [
       "$\\displaystyle - \\frac{2 V_{i} V_{r} \\lambda_{r}}{\\left(V_{i}^{2} + V_{r}^{2}\\right)^{2}} + \\frac{2 V_{r}^{2} \\lambda_{i}}{\\left(V_{i}^{2} + V_{r}^{2}\\right)^{2}} - \\frac{\\lambda_{i}}{V_{i}^{2} + V_{r}^{2}}$"
      ],
      "text/plain": [
       "-2*V_i*V_r*lambda_r/(V_i**2 + V_r**2)**2 + 2*V_r**2*lambda_i/(V_i**2 + V_r**2)**2 - lambda_i/(V_i**2 + V_r**2)"
      ]
     },
     "metadata": {},
     "output_type": "display_data"
    },
    {
     "name": "stdout",
     "output_type": "stream",
     "text": [
      "-2*V_i*V_r*lambda_r/(V_i**2 + V_r**2)**2 + 2*V_r**2*lambda_i/(V_i**2 + V_r**2)**2 - lambda_i/(V_i**2 + V_r**2)\n",
      "\n",
      "\n",
      "dQ_V_i:\n",
      "\n"
     ]
    },
    {
     "data": {
      "text/latex": [
       "$\\displaystyle - \\frac{2 V_{i}^{2} \\lambda_{r}}{\\left(V_{i}^{2} + V_{r}^{2}\\right)^{2}} + \\frac{2 V_{i} V_{r} \\lambda_{i}}{\\left(V_{i}^{2} + V_{r}^{2}\\right)^{2}} + \\frac{\\lambda_{r}}{V_{i}^{2} + V_{r}^{2}}$"
      ],
      "text/plain": [
       "-2*V_i**2*lambda_r/(V_i**2 + V_r**2)**2 + 2*V_i*V_r*lambda_i/(V_i**2 + V_r**2)**2 + lambda_r/(V_i**2 + V_r**2)"
      ]
     },
     "metadata": {},
     "output_type": "display_data"
    },
    {
     "name": "stdout",
     "output_type": "stream",
     "text": [
      "-2*V_i**2*lambda_r/(V_i**2 + V_r**2)**2 + 2*V_i*V_r*lambda_i/(V_i**2 + V_r**2)**2 + lambda_r/(V_i**2 + V_r**2)\n",
      "\n",
      "\n",
      "dQ_Q:\n",
      "\n"
     ]
    },
    {
     "data": {
      "text/latex": [
       "$\\displaystyle 0$"
      ],
      "text/plain": [
       "0"
      ]
     },
     "metadata": {},
     "output_type": "display_data"
    },
    {
     "name": "stdout",
     "output_type": "stream",
     "text": [
      "0\n",
      "\n",
      "\n",
      "dQ_lambda_r:\n",
      "\n"
     ]
    },
    {
     "data": {
      "text/latex": [
       "$\\displaystyle \\frac{V_{i}}{V_{i}^{2} + V_{r}^{2}}$"
      ],
      "text/plain": [
       "V_i/(V_i**2 + V_r**2)"
      ]
     },
     "metadata": {},
     "output_type": "display_data"
    },
    {
     "name": "stdout",
     "output_type": "stream",
     "text": [
      "V_i/(V_i**2 + V_r**2)\n",
      "\n",
      "\n",
      "dQ_lambda_i:\n",
      "\n"
     ]
    },
    {
     "data": {
      "text/latex": [
       "$\\displaystyle - \\frac{V_{r}}{V_{i}^{2} + V_{r}^{2}}$"
      ],
      "text/plain": [
       "-V_r/(V_i**2 + V_r**2)"
      ]
     },
     "metadata": {},
     "output_type": "display_data"
    },
    {
     "name": "stdout",
     "output_type": "stream",
     "text": [
      "-V_r/(V_i**2 + V_r**2)\n",
      "\n",
      "\n",
      "dQ_lambda_Q:\n",
      "\n"
     ]
    },
    {
     "data": {
      "text/latex": [
       "$\\displaystyle 0$"
      ],
      "text/plain": [
       "0"
      ]
     },
     "metadata": {},
     "output_type": "display_data"
    },
    {
     "name": "stdout",
     "output_type": "stream",
     "text": [
      "0\n",
      "\n",
      "\n"
     ]
    }
   ],
   "source": [
    "dQ = diff(lagrange, Q)\n",
    "print(\"dQ:\\n\")\n",
    "disp.display(dQ)\n",
    "print(dQ)\n",
    "print(\"\\n\")\n",
    "\n",
    "for variable in variables + lambdas:\n",
    "    print(f'dQ_{variable}:\\n')\n",
    "    disp.display(diff(dQ, variable))\n",
    "    print(diff(dQ, variable))\n",
    "    print(\"\\n\")"
   ]
  },
  {
   "cell_type": "markdown",
   "metadata": {},
   "source": [
    "## Code Structure\n",
    "\n",
    "The structure of the codebase largely mirrors the structure from Project 2. The primary modification to accommodate infeasibility analysis is the split between `stamp_primal_*(...)` and `stamp_dual_*(...)` (linear and nonlinear variations exist for these methods). Infeasibility currents are currently handled by the bus itself."
   ]
  },
  {
   "cell_type": "markdown",
   "metadata": {},
   "source": [
    "## Test Case Results"
   ]
  },
  {
   "cell_type": "markdown",
   "metadata": {},
   "source": [
    "One notable result across test cases is the $Q$ value on generators can be very large. This is unsurprising, since no $Q$ limiting is implemented in the simulator. This in turn can cause very large negative values for slack currents, presumably as some kind of unintended optimal for the infeasibility currents."
   ]
  },
  {
   "cell_type": "code",
   "execution_count": 14,
   "metadata": {},
   "outputs": [],
   "source": [
    "from lib.Solve import solve\n",
    "from lib.settings import Settings\n",
    "from parsers.parser import parse_raw\n",
    "from lib.process_results import print_infeas_comparison\n",
    "\n",
    "def report_case(casename, settings):\n",
    "    print(f'Testcase: {casename}')\n",
    "    filename = f'testcases/{casename}.RAW'\n",
    "    raw_data = parse_raw(filename)\n",
    "    _, results = solve(raw_data, settings)\n",
    "    infeas_bus_results = results.report_infeasible()\n",
    "\n",
    "    if len(infeas_bus_results) == 0:\n",
    "        print(\"Test case is feasible\")\n",
    "        return\n",
    "\n",
    "    print(\"Test case is infeasible\")\n",
    "\n",
    "    print(\"Largest infeasible currents:\")\n",
    "\n",
    "    for bus_result in reversed(infeas_bus_results):\n",
    "        print(bus_result)\n",
    "    \n",
    "    print_infeas_comparison(casename, results)"
   ]
  },
  {
   "cell_type": "markdown",
   "metadata": {},
   "source": [
    "### GS-4 Stressed"
   ]
  },
  {
   "cell_type": "code",
   "execution_count": 21,
   "metadata": {},
   "outputs": [
    {
     "name": "stdout",
     "output_type": "stream",
     "text": [
      "Testcase: GS-4_stressed\n",
      "Time to parse the file is: 0.00270\n",
      "Running power flow solver...\n",
      "Tx factor: 0\n",
      "Power flow solver converged after 40 iterations.\n",
      "Ran for 0.025 seconds\n",
      "Test case is infeasible\n",
      "Largest infeasible currents:\n",
      "Bus 3 V_mag (pu): 0.627, V_ang (deg): -20.527, I_inf_r: -1.35, I_inf_i: 5.95, lambda_r: 2.70, lambda_i: -11.91\n",
      "Bus 2 V_mag (pu): 0.518, V_ang (deg): -20.407, I_inf_r: 0.14, I_inf_i: 0.39, lambda_r: -0.27, lambda_i: -0.78\n",
      "L2 norm:\n",
      "6.179\n",
      "Comparison solution L2 norm:\n",
      "12.357\n",
      "Average percent difference with comparison solution:\n",
      "I_r: 250.0%, I_i: 250.0%\n"
     ]
    }
   ],
   "source": [
    "casename = 'GS-4_stressed' \n",
    "settings = Settings(max_iters=100, flat_start=False, infeasibility_analysis=True, V_limiting=False)\n",
    "report_case(casename, settings)"
   ]
  },
  {
   "cell_type": "markdown",
   "metadata": {},
   "source": [
    "In this case, bus 3 has a substantial imaginary current deficit, along with a minor excess of real current. This could potentially be corrected by placing some kind of capacitance device at bus 3. This could also be corrected by generating more reactive power at bus 4 (which would potentially also decrease its real power production as a bonus)."
   ]
  },
  {
   "cell_type": "markdown",
   "metadata": {},
   "source": [
    "### IEEE-14 Stressed 1"
   ]
  },
  {
   "cell_type": "code",
   "execution_count": 22,
   "metadata": {},
   "outputs": [
    {
     "name": "stdout",
     "output_type": "stream",
     "text": [
      "Testcase: IEEE-14_stressed_1\n",
      "Time to parse the file is: 0.00208\n",
      "Running power flow solver...\n",
      "Tx factor: 0\n",
      "Power flow solver converged after 5 iterations.\n",
      "Ran for 0.012 seconds\n",
      "Test case is feasible\n"
     ]
    }
   ],
   "source": [
    "casename = 'IEEE-14_stressed_1' \n",
    "settings = Settings(max_iters=100, flat_start=False, infeasibility_analysis=True, V_limiting=True)\n",
    "report_case(casename, settings)"
   ]
  },
  {
   "cell_type": "markdown",
   "metadata": {},
   "source": [
    "### IEEE-14 Stressed 2 (fixed)"
   ]
  },
  {
   "cell_type": "code",
   "execution_count": 23,
   "metadata": {},
   "outputs": [
    {
     "name": "stdout",
     "output_type": "stream",
     "text": [
      "Testcase: IEEE-14_stressed_2_fixed\n",
      "Time to parse the file is: 0.00187\n",
      "Running power flow solver...\n",
      "Tx factor: 0\n",
      "Power flow solver converged after 53 iterations.\n",
      "Ran for 0.104 seconds\n",
      "Test case is infeasible\n",
      "Largest infeasible currents:\n",
      "Bus 14 V_mag (pu): 0.692, V_ang (deg): -116.988, I_inf_r: 0.02, I_inf_i: 0.02, lambda_r: -0.05, lambda_i: -0.05\n",
      "Bus 13 V_mag (pu): 0.928, V_ang (deg): -110.942, I_inf_r: 0.01, I_inf_i: 0.03, lambda_r: -0.03, lambda_i: -0.05\n",
      "Bus 12 V_mag (pu): 0.978, V_ang (deg): -110.784, I_inf_r: 0.01, I_inf_i: 0.03, lambda_r: -0.02, lambda_i: -0.05\n",
      "L2 norm:\n",
      "0.090\n",
      "Comparison solution L2 norm:\n",
      "0.180\n",
      "Average percent difference with comparison solution:\n",
      "I_r: 271.4%, I_i: 271.4%\n"
     ]
    }
   ],
   "source": [
    "casename = 'IEEE-14_stressed_2_fixed' \n",
    "settings = Settings(max_iters=100, flat_start=True, infeasibility_analysis=True, V_limiting=True)\n",
    "report_case(casename, settings)"
   ]
  },
  {
   "cell_type": "markdown",
   "metadata": {},
   "source": [
    "This case has comparatively small infeasibility currents (real and imaginary) spread across buses. Ideally the correct here would be to raise the total generation of real and reactive power across the system."
   ]
  }
 ],
 "metadata": {
  "interpreter": {
   "hash": "e7370f93d1d0cde622a1f8e1c04877d8463912d04d973331ad4851f04de6915a"
  },
  "kernelspec": {
   "display_name": "Python 3.8.10 64-bit",
   "language": "python",
   "name": "python3"
  },
  "language_info": {
   "codemirror_mode": {
    "name": "ipython",
    "version": 3
   },
   "file_extension": ".py",
   "mimetype": "text/x-python",
   "name": "python",
   "nbconvert_exporter": "python",
   "pygments_lexer": "ipython3",
   "version": "3.8.10"
  },
  "orig_nbformat": 4
 },
 "nbformat": 4,
 "nbformat_minor": 2
}
